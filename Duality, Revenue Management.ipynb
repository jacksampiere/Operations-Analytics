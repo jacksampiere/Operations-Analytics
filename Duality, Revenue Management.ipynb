{
 "cells": [
  {
   "cell_type": "markdown",
   "metadata": {},
   "source": [
    "# Homework 1"
   ]
  },
  {
   "cell_type": "markdown",
   "metadata": {},
   "source": [
    "## Question 1"
   ]
  },
  {
   "cell_type": "markdown",
   "metadata": {},
   "source": [
    "### P1 LP Formulation"
   ]
  },
  {
   "cell_type": "code",
   "execution_count": 1,
   "metadata": {},
   "outputs": [],
   "source": [
    "from gurobipy import *"
   ]
  },
  {
   "cell_type": "code",
   "execution_count": 2,
   "metadata": {},
   "outputs": [
    {
     "name": "stdout",
     "output_type": "stream",
     "text": [
      "Using license file C:\\Users\\HP\\gurobi.lic\n",
      "Academic license - for non-commercial use only - expires 2021-08-07\n"
     ]
    }
   ],
   "source": [
    "# create the model\n",
    "m_1 = Model()\n",
    "\n",
    "# add variables\n",
    "x_1 = m_1.addVar()\n",
    "x_2 = m_1.addVar()\n",
    "x_3 = m_1.addVar()\n",
    "\n",
    "# constraints (nonnegativity constraints automatically added by Gurobi)\n",
    "ge_constraint = m_1.addConstr(14*x_1 + 20*x_2 + 40*x_3 <= 300)\n",
    "si_constraint = m_1.addConstr(30*x_1 + 20*x_2 + 15*x_3 <= 500)\n",
    "time_constraint = m_1.addConstr(20*x_1 + 30*x_2 + 50*x_3 <= 1080)\n",
    "\n",
    "# objective function\n",
    "m_1.setObjective(500*x_1 + 800*x_2 + 1000*x_3, GRB.MAXIMIZE)\n"
   ]
  },
  {
   "cell_type": "code",
   "execution_count": 3,
   "metadata": {},
   "outputs": [],
   "source": [
    "# update model\n",
    "m_1.update()\n"
   ]
  },
  {
   "cell_type": "code",
   "execution_count": 4,
   "metadata": {},
   "outputs": [
    {
     "name": "stdout",
     "output_type": "stream",
     "text": [
      "Gurobi Optimizer version 9.1.0 build v9.1.0rc0 (win64)\n",
      "Thread count: 2 physical cores, 4 logical processors, using up to 4 threads\n",
      "Optimize a model with 3 rows, 3 columns and 9 nonzeros\n",
      "Model fingerprint: 0x676c2cb9\n",
      "Coefficient statistics:\n",
      "  Matrix range     [1e+01, 5e+01]\n",
      "  Objective range  [5e+02, 1e+03]\n",
      "  Bounds range     [0e+00, 0e+00]\n",
      "  RHS range        [3e+02, 1e+03]\n",
      "Presolve time: 0.01s\n",
      "Presolved: 3 rows, 3 columns, 9 nonzeros\n",
      "\n",
      "Iteration    Objective       Primal Inf.    Dual Inf.      Time\n",
      "       0    4.5000000e+32   5.828125e+30   4.500000e+02      0s\n",
      "       2    1.2000000e+04   0.000000e+00   0.000000e+00      0s\n",
      "\n",
      "Solved in 2 iterations and 0.01 seconds\n",
      "Optimal objective  1.200000000e+04\n"
     ]
    }
   ],
   "source": [
    "# solve the model\n",
    "m_1.optimize()\n"
   ]
  },
  {
   "cell_type": "code",
   "execution_count": 5,
   "metadata": {},
   "outputs": [
    {
     "name": "stdout",
     "output_type": "stream",
     "text": [
      "2\n",
      "Solved to optimality\n",
      "Number of chip 1:  0.0\n",
      "Number of chip 2:  15.0\n",
      "Number of chip 3:  0.0\n",
      "Optimal objective:  12000.0\n"
     ]
    }
   ],
   "source": [
    "# Extract the solution status. \n",
    "status = m_1.status\n",
    "print(status)\n",
    "if status == GRB.OPTIMAL:\n",
    "    print(\"Solved to optimality\")\n",
    "    \n",
    "# Extract the optimal values of the decision variables.\n",
    "val_1 = x_1.x\n",
    "val_2 = x_2.x\n",
    "val_3 = x_3.x\n",
    "\n",
    "print(\"Number of chip 1: \", val_1)\n",
    "print(\"Number of chip 2: \", val_2)\n",
    "print(\"Number of chip 3: \", val_3)\n",
    "\n",
    "# Extract the optimal objective value.\n",
    "optimal_obj = m_1.objval\n",
    "print(\"Optimal objective: \", optimal_obj)\n"
   ]
  },
  {
   "cell_type": "markdown",
   "metadata": {},
   "source": [
    "### P2 Dual LP Formulation"
   ]
  },
  {
   "cell_type": "code",
   "execution_count": 6,
   "metadata": {},
   "outputs": [],
   "source": [
    "# create the model\n",
    "m_1_dual = Model()\n",
    "\n",
    "# add variables\n",
    "p_g = m_1_dual.addVar()\n",
    "p_s = m_1_dual.addVar()\n",
    "p_t = m_1_dual.addVar()\n",
    "\n",
    "# constraints (nonnegativity constraints added automatically by Gurobi)\n",
    "m_1_dual.addConstr(14*p_g + 30*p_s + 20*p_t >= 500)\n",
    "m_1_dual.addConstr(20*p_g + 20*p_s + 30*p_t >= 800)\n",
    "m_1_dual.addConstr(40*p_g + 15*p_s + 50*p_t >= 1000)\n",
    "\n",
    "# objective function\n",
    "m_1_dual.setObjective(300*p_g + 500*p_s + 1000*p_t, GRB.MINIMIZE)\n"
   ]
  },
  {
   "cell_type": "code",
   "execution_count": 7,
   "metadata": {},
   "outputs": [],
   "source": [
    "# update model\n",
    "m_1_dual.update()\n"
   ]
  },
  {
   "cell_type": "code",
   "execution_count": 8,
   "metadata": {},
   "outputs": [
    {
     "name": "stdout",
     "output_type": "stream",
     "text": [
      "Gurobi Optimizer version 9.1.0 build v9.1.0rc0 (win64)\n",
      "Thread count: 2 physical cores, 4 logical processors, using up to 4 threads\n",
      "Optimize a model with 3 rows, 3 columns and 9 nonzeros\n",
      "Model fingerprint: 0xd6c69f16\n",
      "Coefficient statistics:\n",
      "  Matrix range     [1e+01, 5e+01]\n",
      "  Objective range  [3e+02, 1e+03]\n",
      "  Bounds range     [0e+00, 0e+00]\n",
      "  RHS range        [5e+02, 1e+03]\n",
      "Presolve time: 0.01s\n",
      "Presolved: 3 rows, 3 columns, 9 nonzeros\n",
      "\n",
      "Iteration    Objective       Primal Inf.    Dual Inf.      Time\n",
      "       0    0.0000000e+00   2.875000e+02   0.000000e+00      0s\n",
      "       2    1.2000000e+04   0.000000e+00   0.000000e+00      0s\n",
      "\n",
      "Solved in 2 iterations and 0.01 seconds\n",
      "Optimal objective  1.200000000e+04\n"
     ]
    }
   ],
   "source": [
    "# solve the model\n",
    "m_1_dual.optimize()\n"
   ]
  },
  {
   "cell_type": "code",
   "execution_count": 9,
   "metadata": {},
   "outputs": [
    {
     "name": "stdout",
     "output_type": "stream",
     "text": [
      "2\n",
      "Solved to optimality\n",
      "Price of a unit of Ge Transistors:  40.0\n",
      "Price of a unit of Si Transistors:  0.0\n",
      "Price of a unit of manufacturing time:  0.0\n",
      "Optimal objective:  12000.0\n"
     ]
    }
   ],
   "source": [
    "# Extract the solution status. \n",
    "status = m_1_dual.status\n",
    "print(status)\n",
    "if status == GRB.OPTIMAL:\n",
    "    print(\"Solved to optimality\")\n",
    "    \n",
    "# Extract the optimal values of the decision variables.\n",
    "val_g = p_g.x\n",
    "val_s = p_s.x\n",
    "val_t = p_t.x\n",
    "\n",
    "print(\"Price of a unit of Ge Transistors: \", val_g)\n",
    "print(\"Price of a unit of Si Transistors: \", val_s)\n",
    "print(\"Price of a unit of manufacturing time: \", val_t)\n",
    "\n",
    "# Extract the optimal objective value.\n",
    "optimal_obj = m_1_dual.objval\n",
    "print(\"Optimal objective: \", optimal_obj)\n"
   ]
  },
  {
   "cell_type": "code",
   "execution_count": 10,
   "metadata": {},
   "outputs": [
    {
     "name": "stdout",
     "output_type": "stream",
     "text": [
      "Price of a unit of Ge Transistors:  40.0\n",
      "Price of a unit of Si Transistors:  0.0\n",
      "Price of a unit of manufacturing time:  0.0\n"
     ]
    }
   ],
   "source": [
    "# verifying that the optimal values of the dual are the same as the shadow prices of the primal\n",
    "print(\"Price of a unit of Ge Transistors: \", ge_constraint.pi)\n",
    "print(\"Price of a unit of Si Transistors: \", si_constraint.pi)\n",
    "print(\"Price of a unit of manufacturing time: \", time_constraint.pi)\n"
   ]
  },
  {
   "cell_type": "markdown",
   "metadata": {},
   "source": [
    "### P3 Shadow Prices / Marginal Analysis"
   ]
  },
  {
   "cell_type": "markdown",
   "metadata": {},
   "source": [
    "#### (c)"
   ]
  },
  {
   "cell_type": "code",
   "execution_count": 11,
   "metadata": {},
   "outputs": [
    {
     "name": "stdout",
     "output_type": "stream",
     "text": [
      "Gurobi Optimizer version 9.1.0 build v9.1.0rc0 (win64)\n",
      "Thread count: 2 physical cores, 4 logical processors, using up to 4 threads\n",
      "Optimize a model with 3 rows, 3 columns and 9 nonzeros\n",
      "Coefficient statistics:\n",
      "  Matrix range     [1e+01, 5e+01]\n",
      "  Objective range  [5e+02, 1e+03]\n",
      "  Bounds range     [0e+00, 0e+00]\n",
      "  RHS range        [3e+02, 1e+03]\n",
      "Iteration    Objective       Primal Inf.    Dual Inf.      Time\n",
      "       0    1.2400000e+04   0.000000e+00   0.000000e+00      0s\n",
      "\n",
      "Solved in 0 iterations and 0.01 seconds\n",
      "Optimal objective  1.240000000e+04\n",
      "12400.0\n"
     ]
    }
   ],
   "source": [
    "# verifying a predicted $400 increase in optimal revenue resulting from an increase in\n",
    "# the amount of available Ge transistors of 10 billion\n",
    "\n",
    "# reformulating the primal model\n",
    "ge_constraint.rhs = 310\n",
    "# updating and solving the model\n",
    "m_1.update()\n",
    "m_1.optimize()\n",
    "\n",
    "# display new optimal value\n",
    "print(m_1.objVal)\n"
   ]
  },
  {
   "cell_type": "markdown",
   "metadata": {},
   "source": [
    "We can see that the optimal value has indeed increased by $400."
   ]
  },
  {
   "cell_type": "markdown",
   "metadata": {},
   "source": [
    "### (e)"
   ]
  },
  {
   "cell_type": "code",
   "execution_count": 12,
   "metadata": {},
   "outputs": [
    {
     "name": "stdout",
     "output_type": "stream",
     "text": [
      "Gurobi Optimizer version 9.1.0 build v9.1.0rc0 (win64)\n",
      "Thread count: 2 physical cores, 4 logical processors, using up to 4 threads\n",
      "Optimize a model with 3 rows, 3 columns and 9 nonzeros\n",
      "Coefficient statistics:\n",
      "  Matrix range     [1e+01, 5e+01]\n",
      "  Objective range  [5e+02, 1e+03]\n",
      "  Bounds range     [0e+00, 0e+00]\n",
      "  RHS range        [5e+02, 1e+03]\n",
      "Iteration    Objective       Primal Inf.    Dual Inf.      Time\n",
      "       0    2.4000000e+04   1.250000e+01   0.000000e+00      0s\n",
      "       1    2.1600000e+04   0.000000e+00   0.000000e+00      0s\n",
      "\n",
      "Solved in 1 iterations and 0.01 seconds\n",
      "Optimal objective  2.160000000e+04\n",
      "21600.0\n"
     ]
    }
   ],
   "source": [
    "# verifying a predicted $12,000 increase in optimal revenue resulting from an increase in\n",
    "# the amount of available Ge transistors of 300 billion\n",
    "\n",
    "# reformulating the primal model\n",
    "ge_constraint.rhs = 600\n",
    "# updating and solving the model\n",
    "m_1.update()\n",
    "m_1.optimize()\n",
    "\n",
    "# display new optimal value\n",
    "print(m_1.objVal)\n"
   ]
  },
  {
   "cell_type": "markdown",
   "metadata": {},
   "source": [
    "(g)"
   ]
  },
  {
   "cell_type": "code",
   "execution_count": 13,
   "metadata": {},
   "outputs": [
    {
     "name": "stdout",
     "output_type": "stream",
     "text": [
      "Gurobi Optimizer version 9.1.0 build v9.1.0rc0 (win64)\n",
      "Thread count: 2 physical cores, 4 logical processors, using up to 4 threads\n",
      "Optimize a model with 3 rows, 3 columns and 9 nonzeros\n",
      "Coefficient statistics:\n",
      "  Matrix range     [1e+01, 5e+01]\n",
      "  Objective range  [5e+02, 1e+03]\n",
      "  Bounds range     [0e+00, 0e+00]\n",
      "  RHS range        [3e+02, 1e+03]\n",
      "Iteration    Objective       Primal Inf.    Dual Inf.      Time\n",
      "       0    1.7440000e+04   6.720000e+01   0.000000e+00      0s\n",
      "       1    1.2400000e+04   0.000000e+00   0.000000e+00      0s\n",
      "\n",
      "Solved in 1 iterations and 0.01 seconds\n",
      "Optimal objective  1.240000000e+04\n",
      "12400.0\n"
     ]
    }
   ],
   "source": [
    "# verifying a predicted optimal revenue of $12,400 resulting from an increase in the amount of\n",
    "# available Ge transistors of 10 billion and an increase in the amount of the available Si\n",
    "# transistors of 20 billion\n",
    "\n",
    "# reformulating the primal model\n",
    "ge_constraint.rhs = 310\n",
    "si_constraint.rhs = 520\n",
    "# updating and solving the model\n",
    "m_1.update()\n",
    "m_1.optimize()\n",
    "\n",
    "# display new optimal value\n",
    "print(m_1.objVal)"
   ]
  },
  {
   "cell_type": "markdown",
   "metadata": {},
   "source": [
    "## Question 2"
   ]
  },
  {
   "cell_type": "markdown",
   "metadata": {},
   "source": [
    "### P1 and P2"
   ]
  },
  {
   "cell_type": "code",
   "execution_count": 14,
   "metadata": {},
   "outputs": [],
   "source": [
    "import numpy as np\n",
    "\n",
    "# create the model\n",
    "m_2 = Model()\n",
    "\n",
    "# number of instances\n",
    "n_instances = 9\n",
    "# number of constraints\n",
    "n_constr = 3\n",
    "\n",
    "# CPU\n",
    "cpu = np.array([16, 32, 64, 8, 16, 32, 16, 32, 64])\n",
    "# memory\n",
    "memory = np.array([8, 16, 32, 32, 64, 128, 16, 32, 64])\n",
    "# GPU\n",
    "gpu = np.array([1, 1, 1, 1, 1, 1, 2, 6, 8])\n",
    "resources = np.array([cpu, memory, gpu])\n",
    "# revenue (objective vector)\n",
    "revenue = np.array([7, 12, 24, 22, 44, 88, 30, 90, 120])\n",
    "# upper bounds on resources (CPU, memory, and GPU)\n",
    "B = np.array([512, 1024, 64])\n",
    "\n",
    "# arrival rates\n",
    "arrival_rates = np.array([5.0, 5.0, 1.8, 3.0, 2.6, 1.0, 0.8, 0.4, 0.3])\n",
    "# time horizon\n",
    "T = 5.0\n",
    "# forecast (upper bound on requests accepted over the given time horizon)\n",
    "forecast = T * arrival_rates\n",
    "\n",
    "# add decision variables\n",
    "x = m_2.addVars(n_instances, lb=0, ub=forecast)\n",
    "\n",
    "# set resource constraints\n",
    "resource_constr = {}\n",
    "for c in range(n_constr):\n",
    "    resource_constr[c] = m_2.addConstr(sum(resources[c][i] * x[i] for i in range(n_instances)) <= B[c])\n",
    "\n",
    "# set request constraints based on Poisson arrival process\n",
    "for inst in range(n_instances):\n",
    "    m_2.addConstr(x[inst] <= T * arrival_rates[inst])\n",
    "    \n",
    "# set objective function\n",
    "m_2.setObjective(sum(revenue[i] * x[i] for i in range(n_instances)), GRB.MAXIMIZE)\n"
   ]
  },
  {
   "cell_type": "code",
   "execution_count": 15,
   "metadata": {},
   "outputs": [],
   "source": [
    "# update the model\n",
    "m_2.update()\n"
   ]
  },
  {
   "cell_type": "code",
   "execution_count": 16,
   "metadata": {},
   "outputs": [
    {
     "name": "stdout",
     "output_type": "stream",
     "text": [
      "Gurobi Optimizer version 9.1.0 build v9.1.0rc0 (win64)\n",
      "Thread count: 2 physical cores, 4 logical processors, using up to 4 threads\n",
      "Optimize a model with 12 rows, 9 columns and 36 nonzeros\n",
      "Model fingerprint: 0x96f89df4\n",
      "Coefficient statistics:\n",
      "  Matrix range     [1e+00, 1e+02]\n",
      "  Objective range  [7e+00, 1e+02]\n",
      "  Bounds range     [2e+00, 3e+01]\n",
      "  RHS range        [2e+00, 1e+03]\n",
      "Presolve removed 9 rows and 1 columns\n",
      "Presolve time: 0.01s\n",
      "Presolved: 3 rows, 8 columns, 24 nonzeros\n",
      "\n",
      "Iteration    Objective       Primal Inf.    Dual Inf.      Time\n",
      "       0    1.4400000e+03   7.200000e+01   0.000000e+00      0s\n",
      "       3    1.0394286e+03   0.000000e+00   0.000000e+00      0s\n",
      "\n",
      "Solved in 3 iterations and 0.01 seconds\n",
      "Optimal objective  1.039428571e+03\n"
     ]
    }
   ],
   "source": [
    "# solve the model\n",
    "m_2.optimize()\n"
   ]
  },
  {
   "cell_type": "code",
   "execution_count": 17,
   "metadata": {},
   "outputs": [
    {
     "name": "stdout",
     "output_type": "stream",
     "text": [
      "2\n",
      "Solved to optimality\n",
      "x_1 = 6\n",
      "x_2 = 0\n",
      "x_3 = 0\n",
      "x_4 = 3\n",
      "x_5 = 0\n",
      "x_6 = 5\n",
      "x_7 = 4\n",
      "x_8 = 2\n",
      "x_9 = 1\n",
      "Optimal objective:  1039.4285714285716\n"
     ]
    }
   ],
   "source": [
    "# extract the solution status\n",
    "status = m_2.status\n",
    "print(status)\n",
    "if status == GRB.OPTIMAL:\n",
    "    print(\"Solved to optimality\")\n",
    "    \n",
    "# extract the optimal values of the decision variables\n",
    "for inst in range(n_instances):\n",
    "    # int() just clears negative signs from in front of zeros\n",
    "    print(f'x_{1+inst} = {int(x[inst].x)}')\n",
    "\n",
    "# Extract the optimal objective value.\n",
    "optimal_obj = m_2.objval\n",
    "print(\"Optimal objective: \", optimal_obj)"
   ]
  },
  {
   "cell_type": "markdown",
   "metadata": {},
   "source": [
    "### P3"
   ]
  },
  {
   "cell_type": "markdown",
   "metadata": {},
   "source": [
    "#### Function to generate arrival sequences (Q2, Part 3)"
   ]
  },
  {
   "cell_type": "code",
   "execution_count": 18,
   "metadata": {},
   "outputs": [
    {
     "data": {
      "text/plain": [
       "80.71"
      ]
     },
     "execution_count": 18,
     "metadata": {},
     "output_type": "execute_result"
    }
   ],
   "source": [
    "# Preconditions:\n",
    "# nSimulations = integer specifying number of simulations to run\n",
    "# rates = array containing arrival rate (# / day) for each of the instances\n",
    "# types (should be an array with 9 elements)\n",
    "# T = length of horizon in days.\n",
    "\n",
    "def generateArrivalSequences( nSimulations, rates, T ):\n",
    "    total_rate = sum(rates)\n",
    "    nTypes = len(rates)\n",
    "\n",
    "    arrival_sequences_times = []\n",
    "    arrival_sequences_types = [];\n",
    "\n",
    "    for s in range(nSimulations):\n",
    "        single_arrival_sequence_time = [];\n",
    "        single_arrival_sequence_type = [];\n",
    "        t = 0;\n",
    "        while (t < T):\n",
    "            single_time = np.random.exponential(1.0/total_rate)\n",
    "            single_type = np.random.choice(nTypes, p= rates/total_rate )\n",
    "\n",
    "            t += single_time;\n",
    "\n",
    "            if (t < T):\n",
    "                single_arrival_sequence_time.append(t)\n",
    "                single_arrival_sequence_type.append(single_type)\n",
    "            else:\n",
    "                break\n",
    "\n",
    "        arrival_sequences_times.append(np.array(single_arrival_sequence_time))\n",
    "        arrival_sequences_types.append(np.array(single_arrival_sequence_type))\n",
    "    return arrival_sequences_times, arrival_sequences_types\n",
    "\n",
    "\n",
    "\n",
    "# Code to test out above function\n",
    "np.random.seed(1)\n",
    "nSimulations_test = 100\n",
    "rates_test = np.array([5.0, 2.0, 3.0])\n",
    "T_test = 8\n",
    "x, y = generateArrivalSequences(nSimulations_test, rates_test, T_test)\n",
    "\n",
    "# If code above is working correctly, code below should show\n",
    "# value of 80.71:\n",
    "counts = np.array([len(y[i]) for i in range(nSimulations_test)] )\n",
    "counts.mean()"
   ]
  },
  {
   "cell_type": "code",
   "execution_count": 19,
   "metadata": {},
   "outputs": [
    {
     "name": "stdout",
     "output_type": "stream",
     "text": [
      "[0.07414243 0.1246028  0.15928449]\n"
     ]
    }
   ],
   "source": [
    "# Code to test out above function\n",
    "np.random.seed(10)\n",
    "nSimulations_test = 100\n",
    "rates_test = np.array([5.0, 5.0, 1.8, 3.0, 2.6, 1.0, 0.8, 0.4, 0.3])\n",
    "T_test = 5\n",
    "arrival_sequence_times, arrival_sequence_types = generateArrivalSequences(nSimulations_test,\n",
    "                                                                          rates_test, T_test)\n",
    "\n",
    "# confirm values\n",
    "print(arrival_sequence_times[0][:3])\n"
   ]
  },
  {
   "cell_type": "markdown",
   "metadata": {},
   "source": [
    "(a)"
   ]
  },
  {
   "cell_type": "code",
   "execution_count": 20,
   "metadata": {},
   "outputs": [
    {
     "name": "stdout",
     "output_type": "stream",
     "text": [
      "26.63\n"
     ]
    }
   ],
   "source": [
    "from collections import Counter\n",
    "\n",
    "# each list within the list called arrival_sequence_times is a sequence of instance times\n",
    "# we'll count the times C1 (i.e. 0) is chosen in the sequnece in each list, then take the average\n",
    "\n",
    "# initialize sum to track number of arrivals of instance type C1\n",
    "num_c1 = 0\n",
    "\n",
    "c1 = 0\n",
    "# loop through all sequences\n",
    "for sequence in arrival_sequence_types:\n",
    "    # count number of arrivals of instance type C1 in each sequence\n",
    "    num_c1 += Counter(sequence)[0]\n",
    "\n",
    "# take average across all simulations\n",
    "avg_c1 = num_c1 / nSimulations_test\n",
    "print(avg_c1)\n"
   ]
  },
  {
   "cell_type": "markdown",
   "metadata": {},
   "source": [
    "(b)"
   ]
  },
  {
   "cell_type": "code",
   "execution_count": 21,
   "metadata": {},
   "outputs": [
    {
     "name": "stdout",
     "output_type": "stream",
     "text": [
      "101.0\n"
     ]
    }
   ],
   "source": [
    "# compute average number of instances of all types\n",
    "\n",
    "num_arrivals = 0\n",
    "for sequence in arrival_sequence_types:\n",
    "    \n",
    "    num_arrivals += len(sequence)\n",
    "    \n",
    "avg_all_types = num_arrivals / nSimulations_test\n",
    "print(avg_all_types)\n"
   ]
  },
  {
   "cell_type": "markdown",
   "metadata": {},
   "source": [
    "(c)"
   ]
  },
  {
   "cell_type": "markdown",
   "metadata": {},
   "source": [
    "#### Skeleton code for function to run myopic policy (Q2, Part 3)"
   ]
  },
  {
   "cell_type": "code",
   "execution_count": 22,
   "metadata": {},
   "outputs": [
    {
     "name": "stdout",
     "output_type": "stream",
     "text": [
      "Average revenue: $528.28\n",
      "Average remaining quantity of each resource: CPU = 0.24, memory = 371.52 GB, GPU = 37.42 GB\n"
     ]
    }
   ],
   "source": [
    "np.random.seed(10)\n",
    "# Preconditions for code below:\n",
    "# nSimulations = number of simulations to run\n",
    "nSimulations = 100\n",
    "# nResources = number of different types of resources\n",
    "nResources = 3\n",
    "# CPU needed for each instance type\n",
    "cpu = np.array([16, 32, 64, 8, 16, 32, 16, 32, 64])\n",
    "# memory needed for each instance type\n",
    "memory = np.array([8, 16, 32, 32, 64, 128, 16, 32, 64])\n",
    "# GPU needed for each instance type\n",
    "gpu = np.array([1, 1, 1, 1, 1, 1, 2, 6, 8])\n",
    "# B = numpy array of initial capacities of the resources (CPU, memory, and GPU)\n",
    "B = [512, 1024, 64]\n",
    "# prices of each instance type\n",
    "price = np.array([7, 12, 24, 22, 44, 88, 30, 90, 120])\n",
    "# initialize rates\n",
    "rates = np.array([5.0, 5.0, 1.8, 3.0, 2.6, 1.0, 0.8, 0.4, 0.3])\n",
    "# set time period\n",
    "T = 5\n",
    "# arrival_sequences_times = array where each entry is arrival time sequence for that\n",
    "# simulation\n",
    "# arrival_sequences_types = array where each entry is sequence of request types for\n",
    "# that simulation\n",
    "arrival_sequence_times, arrival_sequence_types = generateArrivalSequences(nSimulations,\n",
    "                                                                          rates, T)\n",
    "\n",
    "results_myopic_revenue = np.zeros(nSimulations)\n",
    "results_myopic_remaining_capacity = np.zeros((nSimulations, nResources))\n",
    "\n",
    "for s in range(nSimulations):\n",
    "    b = B.copy()\n",
    "    single_revenue = 0.0 # will contain the revenue of this simulation\n",
    "    nArrivals = len(arrival_sequence_times[s])\n",
    "\n",
    "    # Go through the arrivals in sequence\n",
    "    for j in range(nArrivals):\n",
    "        # Obtain the time of the arrival\n",
    "        arrival_time = arrival_sequence_times[s][j]\n",
    "        # obtain type of arrival\n",
    "        i = arrival_sequence_types[s][j]\n",
    "\n",
    "        # Check if there is sufficient capacity for the request\n",
    "        reqs = np.array([cpu[i], memory[i], gpu[i]])\n",
    "        if (reqs <= b).all():\n",
    "            # if there is sufficient capacity, accrue the revenue\n",
    "            single_revenue += price[i]\n",
    "            # and remove the capacity\n",
    "            b -= reqs\n",
    "\n",
    "    # Save the results of this simulation here ...\n",
    "    results_myopic_revenue[s] = single_revenue\n",
    "    results_myopic_remaining_capacity[s,:] = b\n",
    "\n",
    "# Find the average revenue\n",
    "revenue_myopic_mean = results_myopic_revenue.mean()\n",
    "# Find the average remaining quantity of each resource\n",
    "results_myopic_remaining_cap_mean = results_myopic_remaining_capacity.mean(axis=0)\n",
    "cpu_remaining = results_myopic_remaining_cap_mean[0]\n",
    "memory_remaining = results_myopic_remaining_cap_mean[1]\n",
    "gpu_remaining = results_myopic_remaining_cap_mean[2]\n",
    "\n",
    "print(f'Average revenue: ${revenue_myopic_mean}')\n",
    "print(f'Average remaining quantity of each resource: CPU = {cpu_remaining}, memory = {memory_remaining} GB, GPU = {gpu_remaining} GB')\n"
   ]
  },
  {
   "cell_type": "markdown",
   "metadata": {},
   "source": [
    "### P4"
   ]
  },
  {
   "cell_type": "markdown",
   "metadata": {},
   "source": [
    "#### Skeleton code for function to run bid-price control policy (Q2, Part 4)"
   ]
  },
  {
   "cell_type": "code",
   "execution_count": 23,
   "metadata": {},
   "outputs": [
    {
     "name": "stdout",
     "output_type": "stream",
     "text": [
      "Gurobi Optimizer version 9.1.0 build v9.1.0rc0 (win64)\n",
      "Thread count: 2 physical cores, 4 logical processors, using up to 4 threads\n",
      "Optimize a model with 3 rows, 9 columns and 27 nonzeros\n",
      "Model fingerprint: 0xc72eae64\n",
      "Coefficient statistics:\n",
      "  Matrix range     [1e+00, 1e+02]\n",
      "  Objective range  [7e+00, 1e+02]\n",
      "  Bounds range     [2e+00, 3e+01]\n",
      "  RHS range        [6e+01, 1e+03]\n",
      "Presolve removed 0 rows and 1 columns\n",
      "Presolve time: 0.01s\n",
      "Presolved: 3 rows, 8 columns, 24 nonzeros\n",
      "\n",
      "Iteration    Objective       Primal Inf.    Dual Inf.      Time\n",
      "       0    1.4400000e+03   7.200000e+01   0.000000e+00      0s\n",
      "       3    1.0394286e+03   0.000000e+00   0.000000e+00      0s\n",
      "\n",
      "Solved in 3 iterations and 0.01 seconds\n",
      "Optimal objective  1.039428571e+03\n"
     ]
    }
   ],
   "source": [
    "# create the model\n",
    "m_2 = Model()\n",
    "\n",
    "# number of instances\n",
    "n_instances = 9\n",
    "# number of constraints\n",
    "n_constr = 3\n",
    "\n",
    "# CPU\n",
    "cpu = np.array([16, 32, 64, 8, 16, 32, 16, 32, 64])\n",
    "# memory\n",
    "memory = np.array([8, 16, 32, 32, 64, 128, 16, 32, 64])\n",
    "# GPU\n",
    "gpu = np.array([1, 1, 1, 1, 1, 1, 2, 6, 8])\n",
    "resources = np.array([cpu, memory, gpu])\n",
    "# revenue (objective vector)\n",
    "revenue = np.array([7, 12, 24, 22, 44, 88, 30, 90, 120])\n",
    "# upper bounds on resources (CPU, memory, and GPU)\n",
    "B = np.array([512, 1024, 64])\n",
    "\n",
    "# arrival rates\n",
    "arrival_rates = np.array([5.0, 5.0, 1.8, 3.0, 2.6, 1.0, 0.8, 0.4, 0.3])\n",
    "# time horizon\n",
    "T = 5.0\n",
    "# forecast (upper bound on requests accepted over the given time horizon)\n",
    "forecast = T * arrival_rates\n",
    "\n",
    "# add decision variables\n",
    "x = m_2.addVars(n_instances, lb=0, ub=forecast)\n",
    "\n",
    "# set resource constraints\n",
    "resource_constr = {}\n",
    "for c in range(n_constr):\n",
    "    resource_constr[c] = m_2.addConstr(sum(resources[c][i] * x[i] for i in range(n_instances)) <= B[c])\n",
    "    \n",
    "# set objective function\n",
    "m_2.setObjective(sum(revenue[i] * x[i] for i in range(n_instances)), GRB.MAXIMIZE)\n",
    "\n",
    "# update the model\n",
    "m_2.update()\n",
    "# solve the model\n",
    "m_2.optimize()\n",
    "\n",
    "# supress output\n",
    "m_2.Params.outputflag = 0\n"
   ]
  },
  {
   "cell_type": "markdown",
   "metadata": {},
   "source": [
    "#### Bid-price control algorithm"
   ]
  },
  {
   "cell_type": "code",
   "execution_count": 24,
   "metadata": {
    "scrolled": true
   },
   "outputs": [
    {
     "name": "stdout",
     "output_type": "stream",
     "text": [
      "Average revenue: $925.59\n",
      "Average remaining quantity of each resource: CPU = 27.2, memory = 4.88 GB, GPU = 20.62 GB\n"
     ]
    }
   ],
   "source": [
    "np.random.seed(10)\n",
    "\n",
    "# Preconditions for code below:\n",
    "# nSimulations = number of simulations to run\n",
    "nSimulations = 100\n",
    "# nResources = number of different types of resources (= 3)\n",
    "nResources = 3\n",
    "# set time period\n",
    "T = 5\n",
    "# set number of instances\n",
    "nInstances = 9\n",
    "# set arrival rates\n",
    "arrival_rates = np.array([5.0, 5.0, 1.8, 3.0, 2.6, 1.0, 0.8, 0.4, 0.3])\n",
    "# arrival_sequences_times = array where each entry is arrival time sequence for that\n",
    "# simulation\n",
    "# arrival_sequences_types = array where each entry is sequence of request types for\n",
    "# that simulation\n",
    "arrival_sequence_times, arrival_sequence_types = generateArrivalSequences(nSimulations,\n",
    "                                                                          arrival_rates, T)\n",
    "\n",
    "# define a function bpc() to re-solve the LO each time:\n",
    "def bpc(b, t):\n",
    "    for r in range(nResources):\n",
    "        # Set the RHS of the resource constraint to b[r]\n",
    "        resource_constr[r].rhs = b[r]\n",
    "\n",
    "    for i in range(nInstances):\n",
    "        # Set the RHS of the forecast constraint for each instance\n",
    "        # type to the expected number of requests over the duration\n",
    "        # of the remaining horizon (T - t).\n",
    "        x[i].ub = (T - t) * arrival_rates[i]\n",
    "\n",
    "    # Re-solve the model:\n",
    "    m_2.update()\n",
    "    m_2.optimize()\n",
    "\n",
    "    # Obtain the dual values/shadow prices\n",
    "    dual_val = [resource_constr[c].pi for c in range(nResources)]\n",
    "\n",
    "    # Return the dual values:\n",
    "    return dual_val\n",
    "\n",
    "results_revenue = np.zeros(nSimulations)\n",
    "results_remaining_capacity = np.zeros((nSimulations, nResources))\n",
    "for s in range(nSimulations):\n",
    "    b = B.copy() # Initialize the current capacity\n",
    "    single_revenue = 0.0 # Initialize the revenue garnered in this simulation\n",
    "    nArrivals = len(arrival_sequence_times[s])\n",
    "    for j in range(nArrivals):\n",
    "        # Take the next arrival time and type from the sequence\n",
    "        arrival_time = arrival_sequence_times[s][j]\n",
    "        i = arrival_sequence_types[s][j]\n",
    "\n",
    "        # Check if there is enough capacity\n",
    "        reqs = np.array([cpu[i], memory[i], gpu[i]])\n",
    "        if (reqs <= b).all():\n",
    "            # Re-solve the LO and obtain the dual values\n",
    "            dual_val = bpc(b, arrival_time)\n",
    "\n",
    "            # Check if the revenue is at least the sum of the bid prices:\n",
    "            total_bid_price = sum(dual_val[ell] * resources[ell][i] for ell in range(nResources))\n",
    "            if (revenue[i] >= total_bid_price):\n",
    "                # If there is sufficient capacity, accrue the revenue\n",
    "                single_revenue += revenue[i]\n",
    "                # and remove the capacity.\n",
    "                b -= reqs\n",
    "\n",
    "    # Save the results of this simulation here:\n",
    "    results_revenue[s] = single_revenue\n",
    "    results_remaining_capacity[s,:] = b\n",
    "\n",
    "\n",
    "# Find the average revenue\n",
    "revenue_bid_mean = results_revenue.mean()\n",
    "# Find the average remaining quantity of each resource\n",
    "results_bid_remaining_cap_mean = results_remaining_capacity.mean(axis=0)\n",
    "cpu_bid_remaining = results_bid_remaining_cap_mean[0]\n",
    "memory_bid_remaining = results_bid_remaining_cap_mean[1]\n",
    "gpu_bid_remaining = results_bid_remaining_cap_mean[2]\n",
    "\n",
    "print(f'Average revenue: ${revenue_bid_mean}')\n",
    "print(f'Average remaining quantity of each resource: CPU = {cpu_bid_remaining}, memory = {memory_bid_remaining} GB, GPU = {gpu_bid_remaining} GB')\n"
   ]
  }
 ],
 "metadata": {
  "kernelspec": {
   "display_name": "Python 3",
   "language": "python",
   "name": "python3"
  },
  "language_info": {
   "codemirror_mode": {
    "name": "ipython",
    "version": 3
   },
   "file_extension": ".py",
   "mimetype": "text/x-python",
   "name": "python",
   "nbconvert_exporter": "python",
   "pygments_lexer": "ipython3",
   "version": "3.7.10"
  }
 },
 "nbformat": 4,
 "nbformat_minor": 4
}
