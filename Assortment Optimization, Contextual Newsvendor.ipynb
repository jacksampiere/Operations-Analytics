{
 "cells": [
  {
   "cell_type": "code",
   "execution_count": 1,
   "metadata": {
    "scrolled": true
   },
   "outputs": [],
   "source": [
    "import numpy as np\n",
    "import pandas as pd\n",
    "from gurobipy import *\n"
   ]
  },
  {
   "cell_type": "markdown",
   "metadata": {},
   "source": [
    "# Question 1"
   ]
  },
  {
   "cell_type": "code",
   "execution_count": 2,
   "metadata": {},
   "outputs": [],
   "source": [
    "# read in sushi info\n",
    "sushi_info = pd.read_csv('sushi_info.csv', names=['Name', 'Category Code', 'Price'])\n",
    "\n",
    "# function to get sushi names from numbers\n",
    "def get_names(sushi_info, S):\n",
    "    # sushi info = sushi info df\n",
    "    # S = list of sushi numbers for which to get names\n",
    "    \n",
    "    # adjust for Python index\n",
    "    S = [sushi-1 for sushi in S]\n",
    "    # subset dataframe\n",
    "    sushi_info = sushi_info.loc[S]\n",
    "    # return series of sushi names\n",
    "    return sushi_info['Name']\n"
   ]
  },
  {
   "cell_type": "markdown",
   "metadata": {},
   "source": [
    "## Part 1: Understanding the data"
   ]
  },
  {
   "cell_type": "markdown",
   "metadata": {},
   "source": [
    "(a)"
   ]
  },
  {
   "cell_type": "code",
   "execution_count": 3,
   "metadata": {},
   "outputs": [
    {
     "name": "stdout",
     "output_type": "stream",
     "text": [
      "[38  4  3 16 44]\n",
      "37    negi_toro\n",
      "3           ika\n",
      "2        maguro\n",
      "15        samon\n",
      "43        inari\n",
      "Name: Name, dtype: object\n"
     ]
    }
   ],
   "source": [
    "# read in sushi utilities\n",
    "sushi_utils = pd.read_csv('sushi_utilities_mat.csv',\n",
    "                          names=[i for i in range(100)])\n",
    "# convert to numpy array\n",
    "sushi_utils = np.asarray(sushi_utils)\n",
    "# extract utilities for customer 1\n",
    "c1 = sushi_utils[0]\n",
    "# determine 5 most preferred sushis for customer 1 (index 0 --> customer 1, ascending --> last 5)\n",
    "top_5_c1 = np.argsort(c1)[-5:]\n",
    "# reverse array since highest utility is at the bottom, add 1 to adjust index\n",
    "top_5_c1 = np.flip(top_5_c1) + 1\n",
    "\n",
    "# diaplay sushi numbers\n",
    "print(top_5_c1)\n",
    "# display sushi names\n",
    "print(get_names(sushi_info, top_5_c1))\n"
   ]
  },
  {
   "cell_type": "markdown",
   "metadata": {},
   "source": [
    "(b)"
   ]
  },
  {
   "cell_type": "code",
   "execution_count": 4,
   "metadata": {},
   "outputs": [
    {
     "name": "stdout",
     "output_type": "stream",
     "text": [
      "[94 50 93 15 17]\n",
      "93         karasumi\n",
      "49    komochi_konbu\n",
      "92           kyabia\n",
      "14            awabi\n",
      "16         kazunoko\n",
      "Name: Name, dtype: object\n"
     ]
    }
   ],
   "source": [
    "# extract utilities for customer 2\n",
    "c2 = sushi_utils[1]\n",
    "# determine 5 least preferred sushis for customer 2 (index 1 --> customer 2, ascending --> first 5)\n",
    "# also add 1 to adjust index\n",
    "top_5_c2 = np.argsort(c2)[:5] + 1\n",
    "# no need to reverse array since lowest utility is at the top already\n",
    "print(top_5_c2)\n",
    "# display sushi names\n",
    "print(get_names(sushi_info, top_5_c2))\n"
   ]
  },
  {
   "cell_type": "markdown",
   "metadata": {},
   "source": [
    "(c)"
   ]
  },
  {
   "cell_type": "code",
   "execution_count": 5,
   "metadata": {},
   "outputs": [
    {
     "name": "stdout",
     "output_type": "stream",
     "text": [
      "[38  3 80 62  1]\n",
      "Descriptions of top 5:\n",
      "\tnegi_toro (fatty flesh of tuna minced to a paste and mixed with chopped green leaves of Welsh onions)\n",
      "\tmaguro (tuna)\n",
      "\tkurumaebi (prawn)\n",
      "\tnegi_toro_maki (roll style of no.37)\n",
      "\tebi (shrimp)\n",
      "37         negi_toro\n",
      "2             maguro\n",
      "79         kurumaebi\n",
      "61    negi_toro_maki\n",
      "0                ebi\n",
      "Name: Name, dtype: object\n"
     ]
    }
   ],
   "source": [
    "# get argsort vals for each customer\n",
    "argsort_utils = np.argsort(sushi_utils, axis=1)\n",
    "# get ranks of each sushi for each customer\n",
    "rank_utils = np.argsort(argsort_utils, axis=1)\n",
    "# average ranks across all customers\n",
    "mean_ranks = np.mean(rank_utils, axis=0)\n",
    "# extract top 5, reverse to get best first, add 1 to adjust for index\n",
    "top_5 = np.flip(np.argsort(mean_ranks)[-5:]) + 1\n",
    "print(top_5)\n",
    "\n",
    "# investigate the top 5 sushis\n",
    "sushi_descr = pd.read_csv('sushi_descriptions.csv', names=[0])\n",
    "# print out fish type for each top sushi\n",
    "print('Descriptions of top 5:')\n",
    "for sushi in top_5:\n",
    "    print('\\t' + str(sushi_descr.loc[sushi][0]))\n",
    "    \n",
    "# display sushi names\n",
    "print(get_names(sushi_info, top_5))\n"
   ]
  },
  {
   "cell_type": "markdown",
   "metadata": {},
   "source": [
    "(d)"
   ]
  },
  {
   "cell_type": "code",
   "execution_count": 6,
   "metadata": {},
   "outputs": [
    {
     "name": "stdout",
     "output_type": "stream",
     "text": [
      "93\n",
      "92    kyabia\n",
      "Name: Name, dtype: object\n"
     ]
    }
   ],
   "source": [
    "# grab index of lowest utility, add 1 to adjust for index\n",
    "worst = np.argsort(mean_ranks)[0] + 1\n",
    "print(worst)\n",
    "# display sushi name\n",
    "print(get_names(sushi_info, [worst]))\n"
   ]
  },
  {
   "cell_type": "markdown",
   "metadata": {},
   "source": [
    "(e)"
   ]
  },
  {
   "cell_type": "code",
   "execution_count": 7,
   "metadata": {},
   "outputs": [
    {
     "name": "stdout",
     "output_type": "stream",
     "text": [
      "15\n",
      "14    awabi\n",
      "Name: Name, dtype: object\n"
     ]
    }
   ],
   "source": [
    "# aggregate across customers via standard deviation\n",
    "std_dev_utils = np.std(rank_utils, axis=0)\n",
    "# extract sushi with highest standard deviation of rank, adjust for index\n",
    "most_controv = np.argmax(std_dev_utils) + 1\n",
    "print(most_controv)\n",
    "# display sushi name\n",
    "print(get_names(sushi_info, [most_controv]))\n"
   ]
  },
  {
   "cell_type": "markdown",
   "metadata": {},
   "source": [
    "## Part 2: Common-sense solutions"
   ]
  },
  {
   "cell_type": "code",
   "execution_count": 8,
   "metadata": {},
   "outputs": [],
   "source": [
    "# read in price data\n",
    "sushi_info = pd.read_csv('sushi_info.csv', names=['Name', 'Category Code', 'Price'])\n",
    "# extract prices as numpy array\n",
    "sushi_prices = np.asarray(sushi_info['Price'])\n"
   ]
  },
  {
   "cell_type": "markdown",
   "metadata": {},
   "source": [
    "Create a function that computes the expected per-customer revenue\n",
    "of an assortment of sushi items S, where each customer is picking the option that gives them the\n",
    "highest utility."
   ]
  },
  {
   "cell_type": "code",
   "execution_count": 9,
   "metadata": {},
   "outputs": [
    {
     "name": "stdout",
     "output_type": "stream",
     "text": [
      "14.239620000000011\n"
     ]
    }
   ],
   "source": [
    "def per_cust_rev(sushi_utils, sushi_prices, S):\n",
    "    # computes per customer revenue of some assortment S\n",
    "    # sushi_utils = k x n matrix of sushi utilities (k = # of customers, n = # of sushis)\n",
    "    # sushi_prices = n x 1 vector of sushi prices\n",
    "    # S = a set of sushis offered\n",
    "    \n",
    "    # define no-purchase utility\n",
    "    no_purch_util = 3\n",
    "    # variable that will store total revenue\n",
    "    total_rev = 0\n",
    "    # number of customers\n",
    "    num_cust = len(sushi_utils)\n",
    "    # list of customers\n",
    "    customers = [i for i in range(num_cust)]\n",
    "    # convert assortment to numpy array so we can index with it, adjust for Python indexing\n",
    "    S = np.array(list(S)) - 1\n",
    "    \n",
    "    # for each customer...\n",
    "    for cust in customers:\n",
    "        \n",
    "        # extract utilities for this customer\n",
    "        this_cust_utils = sushi_utils[cust, S]\n",
    "        # if highest utility is greater than the no-purchase option...\n",
    "        if np.max(this_cust_utils) > no_purch_util:\n",
    "            \n",
    "            # extract index of the highest utility (i.e. their preferred sushi)\n",
    "            sushi_pref = np.argmax(this_cust_utils)\n",
    "            # extract price\n",
    "            price = sushi_prices[S[sushi_pref]]\n",
    "            # track total revenue\n",
    "            total_rev += price\n",
    "            \n",
    "    # adjust total revenue for number of customers (i.e. find per customer revenue)\n",
    "    per_cust_rev = total_rev / num_cust\n",
    "    \n",
    "    return per_cust_rev\n",
    "\n",
    "# check function\n",
    "test_S = set([i for i in range(1,6)])\n",
    "print(per_cust_rev(sushi_utils, sushi_prices, test_S))\n"
   ]
  },
  {
   "cell_type": "markdown",
   "metadata": {},
   "source": [
    "(a)"
   ]
  },
  {
   "cell_type": "code",
   "execution_count": 10,
   "metadata": {},
   "outputs": [
    {
     "name": "stdout",
     "output_type": "stream",
     "text": [
      "21.50971999999996\n"
     ]
    }
   ],
   "source": [
    "# offer all sushis\n",
    "all_S = set([i+1 for i in range(len(sushi_utils[0]))])\n",
    "# calculate revenue\n",
    "print(per_cust_rev(sushi_utils, sushi_prices, all_S))\n"
   ]
  },
  {
   "cell_type": "markdown",
   "metadata": {},
   "source": [
    "(b)"
   ]
  },
  {
   "cell_type": "code",
   "execution_count": 11,
   "metadata": {},
   "outputs": [
    {
     "name": "stdout",
     "output_type": "stream",
     "text": [
      "[ 9 15 48 13  5 80 20 47 21 42]\n",
      "8           toro\n",
      "14         awabi\n",
      "47    tarabagani\n",
      "12        akagai\n",
      "4            uni\n",
      "79     kurumaebi\n",
      "19      chu_toro\n",
      "46        suzuki\n",
      "20        hirame\n",
      "41      botanebi\n",
      "Name: Name, dtype: object\n",
      "25.639439999999993\n"
     ]
    }
   ],
   "source": [
    "# offer only the 10 highest revenue sushis\n",
    "top_10_rev_S = np.flip(np.argsort(sushi_prices))[:10] + 1\n",
    "print(top_10_rev_S)\n",
    "print(get_names(sushi_info, top_10_rev_S))\n",
    "# calculate revenue\n",
    "print(per_cust_rev(sushi_utils, sushi_prices, set(top_10_rev_S)))\n"
   ]
  },
  {
   "cell_type": "markdown",
   "metadata": {},
   "source": [
    "(c)"
   ]
  },
  {
   "cell_type": "code",
   "execution_count": 12,
   "metadata": {},
   "outputs": [
    {
     "name": "stdout",
     "output_type": "stream",
     "text": [
      "21.50971999999996\n"
     ]
    }
   ],
   "source": [
    "# set to store highest utilities for each customer\n",
    "pref_utils_S = set()\n",
    "\n",
    "# for each customer\n",
    "for cust in [i for i in range(500)]:\n",
    "    \n",
    "    # get utilities for this customer\n",
    "    this_cust = sushi_utils[cust]\n",
    "    # compute sushi of max utility\n",
    "    sushi_max_util = np.argmax(this_cust) + 1\n",
    "    # add this sushi to set\n",
    "    pref_utils_S.add(sushi_max_util)\n",
    "    \n",
    "print(per_cust_rev(sushi_utils, sushi_prices, pref_utils_S))\n"
   ]
  },
  {
   "cell_type": "markdown",
   "metadata": {},
   "source": [
    "See (d) and (e) on answer sheet."
   ]
  },
  {
   "cell_type": "markdown",
   "metadata": {},
   "source": [
    "## Part 3: An integer optimization model"
   ]
  },
  {
   "cell_type": "markdown",
   "metadata": {},
   "source": [
    "See (a) on answer sheet."
   ]
  },
  {
   "cell_type": "markdown",
   "metadata": {},
   "source": [
    "(b)"
   ]
  },
  {
   "cell_type": "code",
   "execution_count": 13,
   "metadata": {},
   "outputs": [
    {
     "name": "stdout",
     "output_type": "stream",
     "text": [
      "[3. 3. 3. 3. 3.]\n",
      "(500, 101)\n"
     ]
    }
   ],
   "source": [
    "# initialize no-purchase utility column\n",
    "no_purch_col = np.array([3 for i in range(500)]).reshape(500,1)\n",
    "# add no-purchase column to utilities matrix\n",
    "sushi_utils_np = np.hstack((sushi_utils, no_purch_col))\n",
    "# check first 5 vals of no-purchase column\n",
    "print(sushi_utils_np[:5,100])\n",
    "# check shape\n",
    "print(sushi_utils_np.shape)\n",
    "                                 "
   ]
  },
  {
   "cell_type": "markdown",
   "metadata": {},
   "source": [
    "The relaxation of the assortment optimization problem:"
   ]
  },
  {
   "cell_type": "code",
   "execution_count": 14,
   "metadata": {},
   "outputs": [
    {
     "name": "stdout",
     "output_type": "stream",
     "text": [
      "Using license file C:\\Users\\HP\\gurobi.lic\n",
      "Academic license - for non-commercial use only - expires 2021-08-07\n",
      "Gurobi Optimizer version 9.1.0 build v9.1.0rc0 (win64)\n",
      "Thread count: 2 physical cores, 4 logical processors, using up to 4 threads\n",
      "Optimize a model with 101000 rows, 50600 columns and 5301000 nonzeros\n",
      "Model fingerprint: 0xf5163430\n",
      "Coefficient statistics:\n",
      "  Matrix range     [6e-06, 5e+00]\n",
      "  Objective range  [2e-02, 7e-02]\n",
      "  Bounds range     [1e+00, 1e+00]\n",
      "  RHS range        [1e+00, 3e+00]\n",
      "\n",
      "Concurrent LP optimizer: dual simplex and barrier\n",
      "Showing barrier log only...\n",
      "\n",
      "Presolve time: 1.75s\n",
      "Presolved: 101000 rows, 50600 columns, 5301000 nonzeros\n",
      "\n",
      "Ordering time: 0.78s\n",
      "\n",
      "Barrier performed 0 iterations in 6.90 seconds\n",
      "Barrier solve interrupted - model solved by another algorithm\n",
      "\n",
      "\n",
      "Solved with dual simplex\n",
      "Solved in 1241 iterations and 6.91 seconds\n",
      "Optimal objective  3.058751154e+01\n"
     ]
    }
   ],
   "source": [
    "# initialize model\n",
    "m_relaxed = Model()\n",
    "\n",
    "# define dimension variabes\n",
    "n_sushis = 100\n",
    "n_cust = 500\n",
    "\n",
    "# create decision variables, don't enforce them to be binary since this is the relaxation\n",
    "x = m_relaxed.addVars(n_sushis, ub=1)\n",
    "y = m_relaxed.addVars(n_cust, n_sushis+1, ub=1)\n",
    "\n",
    "# add the constraints for each customer\n",
    "for k in range(n_cust):\n",
    "    \n",
    "    # every customer makes exactly one choice\n",
    "    m_relaxed.addConstr(sum(y[k,j] for j in range(n_sushis+1)) == 1)\n",
    "    # utility of any choice is at least the no-purchase utility\n",
    "    m_relaxed.addConstr(quicksum(sushi_utils_np[k,j] * y[k,j] for j in range(n_sushis+1)) >= sushi_utils_np[k,n_sushis])\n",
    "    \n",
    "    # loop through all sushis\n",
    "    for i in range(n_sushis):\n",
    "        \n",
    "        # choose only from products that are in the assortment\n",
    "        m_relaxed.addConstr(y[k,i] <= x[i])\n",
    "        # the utility of any choice is at least the utility of any included sushis\n",
    "        m_relaxed.addConstr(quicksum(sushi_utils_np[k,j] * y[k,j] for j in range(n_sushis+1)) >= sushi_utils_np[k,i] * x[i] + sushi_utils_np[k,n_sushis] * (1 - x[i]))\n",
    "\n",
    "# create objective function\n",
    "m_relaxed.setObjective(quicksum((1 / n_cust) * sushi_prices[i] * y[k,i] for k in range(n_cust) for i in range(n_sushis)), GRB.MAXIMIZE)\n",
    "\n",
    "# update the model\n",
    "m_relaxed.update()\n",
    "# solve the model\n",
    "m_relaxed.optimize()\n",
    "    "
   ]
  },
  {
   "cell_type": "code",
   "execution_count": 15,
   "metadata": {},
   "outputs": [
    {
     "name": "stdout",
     "output_type": "stream",
     "text": [
      "Optimal objective: $30.59\n"
     ]
    }
   ],
   "source": [
    "# display the objective value\n",
    "print(f'Optimal objective: ${m_relaxed.objval:.2f}')\n"
   ]
  },
  {
   "cell_type": "markdown",
   "metadata": {},
   "source": [
    "See (c) on answer sheet."
   ]
  },
  {
   "cell_type": "markdown",
   "metadata": {},
   "source": [
    "(d)"
   ]
  },
  {
   "cell_type": "code",
   "execution_count": 16,
   "metadata": {
    "scrolled": true
   },
   "outputs": [
    {
     "name": "stdout",
     "output_type": "stream",
     "text": [
      "Gurobi Optimizer version 9.1.0 build v9.1.0rc0 (win64)\n",
      "Thread count: 2 physical cores, 4 logical processors, using up to 4 threads\n",
      "Optimize a model with 101000 rows, 50600 columns and 5301000 nonzeros\n",
      "Model fingerprint: 0x8fa1839e\n",
      "Variable types: 0 continuous, 50600 integer (50600 binary)\n",
      "Coefficient statistics:\n",
      "  Matrix range     [6e-06, 5e+00]\n",
      "  Objective range  [2e-02, 7e-02]\n",
      "  Bounds range     [1e+00, 1e+00]\n",
      "  RHS range        [1e+00, 3e+00]\n",
      "Presolve removed 71688 rows and 35858 columns (presolve time = 5s) ...\n",
      "Presolve removed 73053 rows and 36667 columns\n",
      "Presolve time: 9.08s\n",
      "Presolved: 27947 rows, 13933 columns, 411684 nonzeros\n",
      "Variable types: 0 continuous, 13933 integer (13933 binary)\n",
      "Found heuristic solution: objective 4.0621800\n",
      "Found heuristic solution: objective 21.5232800\n",
      "\n",
      "Deterministic concurrent LP optimizer: primal and dual simplex\n",
      "Showing first log only...\n",
      "\n",
      "\n",
      "Root simplex log...\n",
      "\n",
      "Iteration    Objective       Primal Inf.    Dual Inf.      Time\n",
      "       0    3.7270400e+00   6.000000e+01   1.200000e+08     11s\n",
      "Concurrent spin time: 0.00s\n",
      "\n",
      "Solved with dual simplex\n",
      "\n",
      "Root relaxation: objective 2.795798e+01, 2165 iterations, 1.45 seconds\n",
      "\n",
      "    Nodes    |    Current Node    |     Objective Bounds      |     Work\n",
      " Expl Unexpl |  Obj  Depth IntInf | Incumbent    BestBd   Gap | It/Node Time\n",
      "\n",
      "     0     0   27.95798    0  745   21.52328   27.95798  29.9%     -   20s\n",
      "H    0     0                      22.7909000   27.95798  22.7%     -   20s\n",
      "H    0     0                      24.1360000   27.95798  15.8%     -   20s\n",
      "H    0     0                      25.6183200   27.95798  9.13%     -   20s\n",
      "H    0     0                      25.8351000   27.95798  8.22%     -   20s\n",
      "     0     0   27.45002    0  985   25.83510   27.45002  6.25%     -   26s\n",
      "H    0     0                      26.1148800   27.45002  5.11%     -   26s\n",
      "     0     0   27.09403    0  962   26.11488   27.09403  3.75%     -   30s\n",
      "     0     0   26.85239    0 1379   26.11488   26.85239  2.82%     -   37s\n",
      "     0     0   26.85239    0  786   26.11488   26.85239  2.82%     -   39s\n",
      "     0     0   26.85239    0  855   26.11488   26.85239  2.82%     -   40s\n",
      "     0     0   26.85075    0 1048   26.11488   26.85075  2.82%     -   41s\n",
      "     0     0   26.79899    0  985   26.11488   26.79899  2.62%     -   42s\n",
      "     0     0   26.79520    0  969   26.11488   26.79520  2.61%     -   42s\n",
      "     0     0   26.79430    0  983   26.11488   26.79430  2.60%     -   42s\n",
      "     0     0   26.79395    0  985   26.11488   26.79395  2.60%     -   42s\n",
      "     0     0   26.79393    0  982   26.11488   26.79393  2.60%     -   42s\n",
      "     0     0   26.71783    0 1208   26.11488   26.71783  2.31%     -   43s\n",
      "     0     0   26.70764    0 1054   26.11488   26.70764  2.27%     -   44s\n",
      "     0     0   26.70324    0  972   26.11488   26.70324  2.25%     -   44s\n",
      "     0     0   26.70269    0  978   26.11488   26.70269  2.25%     -   44s\n",
      "     0     0   26.70231    0 1035   26.11488   26.70231  2.25%     -   44s\n",
      "     0     0   26.67294    0 1082   26.11488   26.67294  2.14%     -   45s\n",
      "     0     0   26.66892    0 1190   26.11488   26.66892  2.12%     -   45s\n",
      "     0     0   26.66796    0 1096   26.11488   26.66796  2.12%     -   45s\n",
      "     0     0   26.66774    0 1114   26.11488   26.66774  2.12%     -   45s\n",
      "     0     0   26.65356    0 1130   26.11488   26.65356  2.06%     -   46s\n",
      "     0     0   26.65013    0 1092   26.11488   26.65013  2.05%     -   46s\n",
      "     0     0   26.64981    0 1295   26.11488   26.64981  2.05%     -   46s\n",
      "     0     0   26.64313    0 1102   26.11488   26.64313  2.02%     -   47s\n",
      "     0     0   26.64120    0 1123   26.11488   26.64120  2.02%     -   47s\n",
      "     0     0   26.64090    0 1135   26.11488   26.64090  2.01%     -   47s\n",
      "     0     0   26.63619    0 1120   26.11488   26.63619  2.00%     -   48s\n",
      "H    0     0                      26.1193800   26.63619  1.98%     -   48s\n",
      "     0     0   26.63543    0 1133   26.11938   26.63543  1.98%     -   48s\n",
      "     0     0   26.63519    0 1295   26.11938   26.63519  1.97%     -   48s\n",
      "     0     0   26.63464    0 1285   26.11938   26.63464  1.97%     -   48s\n",
      "     0     0   26.63449    0 1289   26.11938   26.63449  1.97%     -   48s\n",
      "     0     0   26.63403    0 1291   26.11938   26.63403  1.97%     -   49s\n",
      "     0     0   26.63403    0 1291   26.11938   26.63403  1.97%     -   49s\n",
      "     0     0   26.63347    0  768   26.11938   26.63347  1.97%     -   51s\n",
      "     0     0   26.63347    0  963   26.11938   26.63347  1.97%     -   52s\n",
      "     0     0   26.63347    0  911   26.11938   26.63347  1.97%     -   53s\n",
      "     0     0   26.63347    0 1039   26.11938   26.63347  1.97%     -   55s\n",
      "     0     0   26.63347    0 1139   26.11938   26.63347  1.97%     -   55s\n",
      "     0     0   26.63201    0 1056   26.11938   26.63201  1.96%     -   55s\n",
      "     0     0   26.63037    0 1069   26.11938   26.63037  1.96%     -   55s\n",
      "     0     0   26.63012    0 1069   26.11938   26.63012  1.96%     -   55s\n",
      "     0     0   26.63003    0 1074   26.11938   26.63003  1.96%     -   55s\n",
      "     0     0   26.62170    0 1047   26.11938   26.62170  1.92%     -   56s\n",
      "     0     0   26.62006    0 1190   26.11938   26.62006  1.92%     -   56s\n",
      "     0     0   26.61991    0 1208   26.11938   26.61991  1.92%     -   57s\n",
      "     0     0   26.61091    0 1210   26.11938   26.61091  1.88%     -   57s\n",
      "     0     0   26.60995    0 1100   26.11938   26.60995  1.88%     -   57s\n",
      "     0     0   26.60969    0 1099   26.11938   26.60969  1.88%     -   58s\n",
      "     0     0   26.60242    0 1099   26.11938   26.60242  1.85%     -   58s\n",
      "     0     0   26.60113    0 1178   26.11938   26.60113  1.84%     -   58s\n",
      "     0     0   26.60068    0 1114   26.11938   26.60068  1.84%     -   58s\n",
      "     0     0   26.59995    0 1202   26.11938   26.59995  1.84%     -   59s\n",
      "     0     0   26.59995    0 1202   26.11938   26.59995  1.84%     -   59s\n",
      "     0     2   26.59995    0 1201   26.11938   26.59995  1.84%     -   59s\n",
      "     1     5   26.59235    1 1032   26.11938   26.59991  1.84%   708   60s\n",
      "H    2     4                      26.2025600   26.59991  1.52%   354   60s\n",
      "    38    12   26.30037    4  318   26.20256   26.45372  0.96%   620   65s\n",
      "*   42    10               7      26.2296000   26.45372  0.85%   590   65s\n",
      "   121    37     cutoff   14        26.22960   26.43480  0.78%   384   70s\n",
      "H  190    25                      26.2445400   26.27790  0.13%   319   72s\n",
      "\n",
      "Cutting planes:\n",
      "  Implied bound: 10\n",
      "  Clique: 1753\n",
      "  MIR: 5\n",
      "  GUB cover: 1\n",
      "  Zero half: 15\n",
      "  RLT: 437\n",
      "\n",
      "Explored 222 nodes (121351 simplex iterations) in 73.15 seconds\n",
      "Thread count was 4 (of 4 available processors)\n",
      "\n",
      "Solution count 10: 26.2445 26.2296 26.2026 ... 21.5233\n",
      "\n",
      "Optimal solution found (tolerance 1.00e-04)\n",
      "Best objective 2.624454000000e+01, best bound 2.624454000000e+01, gap 0.0000%\n"
     ]
    }
   ],
   "source": [
    "# initialize model\n",
    "m = Model()\n",
    "\n",
    "# define dimension variabes\n",
    "n_sushis = 100\n",
    "n_cust = 500\n",
    "\n",
    "# create decision variables\n",
    "x = m.addVars(n_sushis, vtype=GRB.BINARY)\n",
    "y = m.addVars(n_cust, n_sushis+1, vtype=GRB.BINARY)\n",
    "\n",
    "# add the constraints for each customer\n",
    "for k in range(n_cust):\n",
    "    \n",
    "    # every customer makes exactly one choice\n",
    "    m.addConstr(sum(y[k,j] for j in range(n_sushis+1)) == 1)\n",
    "    # utility of any choice is at least the no-purchase utility\n",
    "    m.addConstr(quicksum(sushi_utils_np[k,j] * y[k,j] for j in range(n_sushis+1)) >= sushi_utils_np[k,n_sushis])\n",
    "    \n",
    "    # loop through all sushis\n",
    "    for i in range(n_sushis):\n",
    "        \n",
    "        # choose only from products that are in the assortment\n",
    "        m.addConstr(y[k,i] <= x[i])\n",
    "        # the utility of any choice is at least the utility of any included sushis\n",
    "        m.addConstr(quicksum(sushi_utils_np[k,j] * y[k,j] for j in range(n_sushis+1)) >= sushi_utils_np[k,i] * x[i] + sushi_utils_np[k,n_sushis] * (1 - x[i]))\n",
    "\n",
    "# create objective function\n",
    "m.setObjective(quicksum((1 / n_cust) * sushi_prices[i] * y[k,i] for k in range(n_cust) for i in range(n_sushis)), GRB.MAXIMIZE)\n",
    "\n",
    "# update the model\n",
    "m.update()\n",
    "# solve the model\n",
    "m.optimize()\n"
   ]
  },
  {
   "cell_type": "code",
   "execution_count": 17,
   "metadata": {},
   "outputs": [
    {
     "name": "stdout",
     "output_type": "stream",
     "text": [
      "Optimal objective: $26.24\n"
     ]
    }
   ],
   "source": [
    "# display the objective value\n",
    "print(f'Optimal objective: ${m.objval:.2f}')\n"
   ]
  },
  {
   "cell_type": "markdown",
   "metadata": {},
   "source": [
    "(e)"
   ]
  },
  {
   "cell_type": "code",
   "execution_count": 18,
   "metadata": {},
   "outputs": [
    {
     "name": "stdout",
     "output_type": "stream",
     "text": [
      "Optimal assortment: [9, 15, 19, 36, 48, 73, 76, 88, 90, 98]\n",
      "26.244539999999823\n"
     ]
    }
   ],
   "source": [
    "# extract the optimal assortment of sushis (add 1 to adjust for Python indexing)\n",
    "optimal_S = [i+1 for i in range(n_sushis) if x[i].x > 0.5]\n",
    "print(f'Optimal assortment: {optimal_S}')\n",
    "\n",
    "# check with revenue calculation function\n",
    "print(per_cust_rev(sushi_utils, sushi_prices, set(optimal_S)))\n"
   ]
  },
  {
   "cell_type": "code",
   "execution_count": 19,
   "metadata": {},
   "outputs": [
    {
     "data": {
      "text/plain": [
       "8              toro\n",
       "14            awabi\n",
       "18             saba\n",
       "35         kanimiso\n",
       "47       tarabagani\n",
       "72    mentaiko_maki\n",
       "75       ika_nattou\n",
       "87           tobiuo\n",
       "89         mamakari\n",
       "97           namako\n",
       "Name: Name, dtype: object"
      ]
     },
     "execution_count": 19,
     "metadata": {},
     "output_type": "execute_result"
    }
   ],
   "source": [
    "# get optimal assortment in terms of sushi names\n",
    "\n",
    "# adjust for Python index\n",
    "optimal_S_adj = [sushi-1 for sushi in optimal_S]\n",
    "# subset dataframe\n",
    "optimal_sushis = sushi_info.loc[optimal_S_adj]\n",
    "# display sushi names\n",
    "optimal_sushis['Name']\n"
   ]
  },
  {
   "cell_type": "markdown",
   "metadata": {},
   "source": [
    "# Question 2"
   ]
  },
  {
   "cell_type": "markdown",
   "metadata": {},
   "source": [
    "# Part 1: Formulating a Basic Newsvendor Model"
   ]
  },
  {
   "cell_type": "code",
   "execution_count": 20,
   "metadata": {},
   "outputs": [],
   "source": [
    "# cost of a regular nurse\n",
    "cost_reg = 2160\n",
    "# cost of an agency nurse\n",
    "cost_ag = 5400\n",
    "\n",
    "# function to calculate total cost\n",
    "def calc_cost(num_staffed, num_cases):\n",
    "    \n",
    "    # cost from staffed nurses\n",
    "    total_reg = num_staffed * 2160\n",
    "    # cost from agency nurses\n",
    "    if num_cases > num_staffed:\n",
    "        diff = num_cases - num_staffed\n",
    "        total_ag = diff * 5400\n",
    "    else:\n",
    "        total_ag = 0\n",
    "        \n",
    "    return total_reg + total_ag\n"
   ]
  },
  {
   "cell_type": "markdown",
   "metadata": {},
   "source": [
    "(a)"
   ]
  },
  {
   "cell_type": "code",
   "execution_count": 21,
   "metadata": {},
   "outputs": [
    {
     "name": "stdout",
     "output_type": "stream",
     "text": [
      "38880\n"
     ]
    }
   ],
   "source": [
    "print(calc_cost(18, 12))\n"
   ]
  },
  {
   "cell_type": "markdown",
   "metadata": {},
   "source": [
    "(b)"
   ]
  },
  {
   "cell_type": "code",
   "execution_count": 22,
   "metadata": {},
   "outputs": [
    {
     "name": "stdout",
     "output_type": "stream",
     "text": [
      "27000\n"
     ]
    }
   ],
   "source": [
    "print(calc_cost(5, 8))\n"
   ]
  },
  {
   "cell_type": "markdown",
   "metadata": {},
   "source": [
    "(c)"
   ]
  },
  {
   "cell_type": "markdown",
   "metadata": {},
   "source": [
    "Recall the cost-minimization formulation:"
   ]
  },
  {
   "cell_type": "markdown",
   "metadata": {},
   "source": [
    "$$ \\min_{Q} \\mathbb{E}[c_{u}(D-Q)^{+} + c_{o}(Q-D)^{+}] $$"
   ]
  },
  {
   "cell_type": "markdown",
   "metadata": {},
   "source": [
    "See rest of (c) on answer sheet."
   ]
  },
  {
   "cell_type": "markdown",
   "metadata": {},
   "source": [
    "## Part 2: Solving the Basic Newsvendor Model"
   ]
  },
  {
   "cell_type": "markdown",
   "metadata": {},
   "source": [
    "Split the data into a training set and a test set, so that the training set consists of the first 200 days of data, and the test set consists of the last 100 days of data."
   ]
  },
  {
   "cell_type": "code",
   "execution_count": 23,
   "metadata": {},
   "outputs": [],
   "source": [
    "# read in data\n",
    "nurse = pd.read_csv('nurse.csv')\n",
    "# split into first 200 (train) and last 100 (test) days\n",
    "train = nurse[nurse['Day'] <= 200]\n",
    "test = nurse[nurse['Day'] > 200]\n",
    "# split into X and y variables\n",
    "X_train = train.drop(columns=['DailyED', 'Day'])\n",
    "X_test = test.drop(columns=['DailyED', 'Day'])\n",
    "y_train = train['DailyED']\n",
    "y_test = test['DailyED']\n"
   ]
  },
  {
   "cell_type": "markdown",
   "metadata": {},
   "source": [
    "(a)"
   ]
  },
  {
   "cell_type": "code",
   "execution_count": 24,
   "metadata": {},
   "outputs": [
    {
     "name": "stdout",
     "output_type": "stream",
     "text": [
      "0.6\n"
     ]
    }
   ],
   "source": [
    "# determine quantile based on overage and underage costs\n",
    "c_o = 2160\n",
    "c_u = 5400 - c_o\n",
    "quantile = c_u / (c_u + c_o)\n",
    "print(quantile)\n"
   ]
  },
  {
   "cell_type": "markdown",
   "metadata": {},
   "source": [
    "(b)"
   ]
  },
  {
   "cell_type": "code",
   "execution_count": 25,
   "metadata": {},
   "outputs": [
    {
     "name": "stdout",
     "output_type": "stream",
     "text": [
      "16\n"
     ]
    }
   ],
   "source": [
    "# determine optimal staffing level based on empirical distribution of training set\n",
    "level_basic = round(np.quantile(y_train, quantile))\n",
    "print(level_basic)\n"
   ]
  },
  {
   "cell_type": "markdown",
   "metadata": {},
   "source": [
    "(c)"
   ]
  },
  {
   "cell_type": "code",
   "execution_count": 26,
   "metadata": {},
   "outputs": [
    {
     "name": "stdout",
     "output_type": "stream",
     "text": [
      "41256.0\n"
     ]
    }
   ],
   "source": [
    "# find average cost of this staffing level based on training set\n",
    "train_set_cost_ordinary = c_u * np.maximum(y_train - level_basic, 0) + c_o * np.maximum(level_basic - y_train, 0) + c_o * y_train\n",
    "avg_train_set_cost_ordinary = train_set_cost_ordinary.mean(axis = 0)\n",
    "print(avg_train_set_cost_ordinary)\n"
   ]
  },
  {
   "cell_type": "markdown",
   "metadata": {},
   "source": [
    "(d)"
   ]
  },
  {
   "cell_type": "code",
   "execution_count": 27,
   "metadata": {},
   "outputs": [
    {
     "name": "stdout",
     "output_type": "stream",
     "text": [
      "39528.0\n"
     ]
    }
   ],
   "source": [
    "# find average cost of this staffing level based on test set\n",
    "test_set_cost_ordinary = c_u * np.maximum(y_test - level_basic, 0) + c_o * np.maximum(level_basic - y_test, 0) + c_o * y_test\n",
    "avg_test_set_cost_ordinary = test_set_cost_ordinary.mean(axis = 0)\n",
    "print(avg_test_set_cost_ordinary)\n"
   ]
  },
  {
   "cell_type": "markdown",
   "metadata": {},
   "source": [
    "## Part 3: Solving the Contextual Newsvendor Model"
   ]
  },
  {
   "cell_type": "markdown",
   "metadata": {},
   "source": [
    "Using the training set, build a regression tree to predict DailyED. Use a maximum depth of 2."
   ]
  },
  {
   "cell_type": "code",
   "execution_count": 28,
   "metadata": {},
   "outputs": [
    {
     "data": {
      "text/plain": [
       "DecisionTreeRegressor(max_depth=2)"
      ]
     },
     "execution_count": 28,
     "metadata": {},
     "output_type": "execute_result"
    }
   ],
   "source": [
    "from sklearn.tree import DecisionTreeRegressor\n",
    "# initialize tree\n",
    "dt = DecisionTreeRegressor(max_depth=2)\n",
    "# fit tree\n",
    "dt.fit(X_train, y_train)\n"
   ]
  },
  {
   "cell_type": "markdown",
   "metadata": {},
   "source": [
    "(a)"
   ]
  },
  {
   "cell_type": "code",
   "execution_count": 29,
   "metadata": {},
   "outputs": [
    {
     "data": {
      "image/svg+xml": [
       "<?xml version=\"1.0\" encoding=\"UTF-8\" standalone=\"no\"?>\r\n",
       "<!DOCTYPE svg PUBLIC \"-//W3C//DTD SVG 1.1//EN\"\r\n",
       " \"http://www.w3.org/Graphics/SVG/1.1/DTD/svg11.dtd\">\r\n",
       "<!-- Generated by graphviz version 2.38.0 (20140413.2041)\r\n",
       " -->\r\n",
       "<!-- Title: Tree Pages: 1 -->\r\n",
       "<svg width=\"528pt\" height=\"224pt\"\r\n",
       " viewBox=\"0.00 0.00 528.00 224.00\" xmlns=\"http://www.w3.org/2000/svg\" xmlns:xlink=\"http://www.w3.org/1999/xlink\">\r\n",
       "<g id=\"graph0\" class=\"graph\" transform=\"scale(1 1) rotate(0) translate(4 220)\">\r\n",
       "<title>Tree</title>\r\n",
       "<polygon fill=\"white\" stroke=\"none\" points=\"-4,4 -4,-220 524,-220 524,4 -4,4\"/>\r\n",
       "<!-- 0 -->\r\n",
       "<g id=\"node1\" class=\"node\"><title>0</title>\r\n",
       "<path fill=\"none\" stroke=\"black\" d=\"M349,-216C349,-216 173,-216 173,-216 167,-216 161,-210 161,-204 161,-204 161,-175 161,-175 161,-169 167,-163 173,-163 173,-163 349,-163 349,-163 355,-163 361,-169 361,-175 361,-175 361,-204 361,-204 361,-210 355,-216 349,-216\"/>\r\n",
       "<text text-anchor=\"start\" x=\"169\" y=\"-200.8\" font-family=\"Helvetica,sans-Serif\" font-size=\"14.00\">TotalPriorSurgeries ≤ 21.571</text>\r\n",
       "<text text-anchor=\"start\" x=\"213.5\" y=\"-185.8\" font-family=\"Helvetica,sans-Serif\" font-size=\"14.00\">samples = 200</text>\r\n",
       "<text text-anchor=\"start\" x=\"218\" y=\"-170.8\" font-family=\"Helvetica,sans-Serif\" font-size=\"14.00\">value = 14.85</text>\r\n",
       "</g>\r\n",
       "<!-- 1 -->\r\n",
       "<g id=\"node2\" class=\"node\"><title>1</title>\r\n",
       "<path fill=\"none\" stroke=\"black\" d=\"M254,-127C254,-127 78,-127 78,-127 72,-127 66,-121 66,-115 66,-115 66,-86 66,-86 66,-80 72,-74 78,-74 78,-74 254,-74 254,-74 260,-74 266,-80 266,-86 266,-86 266,-115 266,-115 266,-121 260,-127 254,-127\"/>\r\n",
       "<text text-anchor=\"start\" x=\"74\" y=\"-111.8\" font-family=\"Helvetica,sans-Serif\" font-size=\"14.00\">TotalPriorSurgeries ≤ 16.429</text>\r\n",
       "<text text-anchor=\"start\" x=\"118.5\" y=\"-96.8\" font-family=\"Helvetica,sans-Serif\" font-size=\"14.00\">samples = 105</text>\r\n",
       "<text text-anchor=\"start\" x=\"119\" y=\"-81.8\" font-family=\"Helvetica,sans-Serif\" font-size=\"14.00\">value = 13.476</text>\r\n",
       "</g>\r\n",
       "<!-- 0&#45;&gt;1 -->\r\n",
       "<g id=\"edge1\" class=\"edge\"><title>0&#45;&gt;1</title>\r\n",
       "<path fill=\"none\" stroke=\"black\" d=\"M233.011,-162.868C223.145,-153.833 211.921,-143.554 201.517,-134.026\"/>\r\n",
       "<polygon fill=\"black\" stroke=\"black\" points=\"203.856,-131.422 194.118,-127.25 199.129,-136.585 203.856,-131.422\"/>\r\n",
       "<text text-anchor=\"middle\" x=\"195.215\" y=\"-148.526\" font-family=\"Helvetica,sans-Serif\" font-size=\"14.00\">True</text>\r\n",
       "</g>\r\n",
       "<!-- 4 -->\r\n",
       "<g id=\"node5\" class=\"node\"><title>4</title>\r\n",
       "<path fill=\"none\" stroke=\"black\" d=\"M415.5,-127C415.5,-127 296.5,-127 296.5,-127 290.5,-127 284.5,-121 284.5,-115 284.5,-115 284.5,-86 284.5,-86 284.5,-80 290.5,-74 296.5,-74 296.5,-74 415.5,-74 415.5,-74 421.5,-74 427.5,-80 427.5,-86 427.5,-86 427.5,-115 427.5,-115 427.5,-121 421.5,-127 415.5,-127\"/>\r\n",
       "<text text-anchor=\"start\" x=\"292.5\" y=\"-111.8\" font-family=\"Helvetica,sans-Serif\" font-size=\"14.00\">DailyEDLag2 ≤ 10.5</text>\r\n",
       "<text text-anchor=\"start\" x=\"312.5\" y=\"-96.8\" font-family=\"Helvetica,sans-Serif\" font-size=\"14.00\">samples = 95</text>\r\n",
       "<text text-anchor=\"start\" x=\"309\" y=\"-81.8\" font-family=\"Helvetica,sans-Serif\" font-size=\"14.00\">value = 16.368</text>\r\n",
       "</g>\r\n",
       "<!-- 0&#45;&gt;4 -->\r\n",
       "<g id=\"edge4\" class=\"edge\"><title>0&#45;&gt;4</title>\r\n",
       "<path fill=\"none\" stroke=\"black\" d=\"M288.989,-162.868C298.855,-153.833 310.079,-143.554 320.483,-134.026\"/>\r\n",
       "<polygon fill=\"black\" stroke=\"black\" points=\"322.871,-136.585 327.882,-127.25 318.144,-131.422 322.871,-136.585\"/>\r\n",
       "<text text-anchor=\"middle\" x=\"326.785\" y=\"-148.526\" font-family=\"Helvetica,sans-Serif\" font-size=\"14.00\">False</text>\r\n",
       "</g>\r\n",
       "<!-- 2 -->\r\n",
       "<g id=\"node3\" class=\"node\"><title>2</title>\r\n",
       "<path fill=\"none\" stroke=\"black\" d=\"M98,-38C98,-38 12,-38 12,-38 6,-38 0,-32 0,-26 0,-26 0,-12 0,-12 0,-6 6,-0 12,-0 12,-0 98,-0 98,-0 104,-0 110,-6 110,-12 110,-12 110,-26 110,-26 110,-32 104,-38 98,-38\"/>\r\n",
       "<text text-anchor=\"start\" x=\"11.5\" y=\"-22.8\" font-family=\"Helvetica,sans-Serif\" font-size=\"14.00\">samples = 21</text>\r\n",
       "<text text-anchor=\"start\" x=\"8\" y=\"-7.8\" font-family=\"Helvetica,sans-Serif\" font-size=\"14.00\">value = 11.571</text>\r\n",
       "</g>\r\n",
       "<!-- 1&#45;&gt;2 -->\r\n",
       "<g id=\"edge2\" class=\"edge\"><title>1&#45;&gt;2</title>\r\n",
       "<path fill=\"none\" stroke=\"black\" d=\"M130.268,-73.9081C116.959,-64.3759 101.905,-53.5942 88.777,-44.1916\"/>\r\n",
       "<polygon fill=\"black\" stroke=\"black\" points=\"90.6335,-41.2162 80.4656,-38.2389 86.5576,-46.9072 90.6335,-41.2162\"/>\r\n",
       "</g>\r\n",
       "<!-- 3 -->\r\n",
       "<g id=\"node4\" class=\"node\"><title>3</title>\r\n",
       "<path fill=\"none\" stroke=\"black\" d=\"M226,-38C226,-38 140,-38 140,-38 134,-38 128,-32 128,-26 128,-26 128,-12 128,-12 128,-6 134,-0 140,-0 140,-0 226,-0 226,-0 232,-0 238,-6 238,-12 238,-12 238,-26 238,-26 238,-32 232,-38 226,-38\"/>\r\n",
       "<text text-anchor=\"start\" x=\"139.5\" y=\"-22.8\" font-family=\"Helvetica,sans-Serif\" font-size=\"14.00\">samples = 84</text>\r\n",
       "<text text-anchor=\"start\" x=\"136\" y=\"-7.8\" font-family=\"Helvetica,sans-Serif\" font-size=\"14.00\">value = 13.952</text>\r\n",
       "</g>\r\n",
       "<!-- 1&#45;&gt;3 -->\r\n",
       "<g id=\"edge3\" class=\"edge\"><title>1&#45;&gt;3</title>\r\n",
       "<path fill=\"none\" stroke=\"black\" d=\"M171.472,-73.9081C173.239,-65.6469 175.206,-56.4471 177.008,-48.02\"/>\r\n",
       "<polygon fill=\"black\" stroke=\"black\" points=\"180.431,-48.7497 179.1,-38.2389 173.586,-47.2859 180.431,-48.7497\"/>\r\n",
       "</g>\r\n",
       "<!-- 5 -->\r\n",
       "<g id=\"node6\" class=\"node\"><title>5</title>\r\n",
       "<path fill=\"none\" stroke=\"black\" d=\"M379.5,-38C379.5,-38 300.5,-38 300.5,-38 294.5,-38 288.5,-32 288.5,-26 288.5,-26 288.5,-12 288.5,-12 288.5,-6 294.5,-0 300.5,-0 300.5,-0 379.5,-0 379.5,-0 385.5,-0 391.5,-6 391.5,-12 391.5,-12 391.5,-26 391.5,-26 391.5,-32 385.5,-38 379.5,-38\"/>\r\n",
       "<text text-anchor=\"start\" x=\"296.5\" y=\"-22.8\" font-family=\"Helvetica,sans-Serif\" font-size=\"14.00\">samples = 12</text>\r\n",
       "<text text-anchor=\"start\" x=\"297\" y=\"-7.8\" font-family=\"Helvetica,sans-Serif\" font-size=\"14.00\">value = 18.25</text>\r\n",
       "</g>\r\n",
       "<!-- 4&#45;&gt;5 -->\r\n",
       "<g id=\"edge5\" class=\"edge\"><title>4&#45;&gt;5</title>\r\n",
       "<path fill=\"none\" stroke=\"black\" d=\"M350.849,-73.9081C349.205,-65.7377 347.376,-56.6492 345.695,-48.2981\"/>\r\n",
       "<polygon fill=\"black\" stroke=\"black\" points=\"349.075,-47.3518 343.671,-38.2389 342.213,-48.7329 349.075,-47.3518\"/>\r\n",
       "</g>\r\n",
       "<!-- 6 -->\r\n",
       "<g id=\"node7\" class=\"node\"><title>6</title>\r\n",
       "<path fill=\"none\" stroke=\"black\" d=\"M508,-38C508,-38 422,-38 422,-38 416,-38 410,-32 410,-26 410,-26 410,-12 410,-12 410,-6 416,-0 422,-0 422,-0 508,-0 508,-0 514,-0 520,-6 520,-12 520,-12 520,-26 520,-26 520,-32 514,-38 508,-38\"/>\r\n",
       "<text text-anchor=\"start\" x=\"421.5\" y=\"-22.8\" font-family=\"Helvetica,sans-Serif\" font-size=\"14.00\">samples = 83</text>\r\n",
       "<text text-anchor=\"start\" x=\"418\" y=\"-7.8\" font-family=\"Helvetica,sans-Serif\" font-size=\"14.00\">value = 16.096</text>\r\n",
       "</g>\r\n",
       "<!-- 4&#45;&gt;6 -->\r\n",
       "<g id=\"edge6\" class=\"edge\"><title>4&#45;&gt;6</title>\r\n",
       "<path fill=\"none\" stroke=\"black\" d=\"M391.088,-73.9081C404.158,-64.3759 418.94,-53.5942 431.832,-44.1916\"/>\r\n",
       "<polygon fill=\"black\" stroke=\"black\" points=\"433.976,-46.9595 439.993,-38.2389 429.851,-41.3039 433.976,-46.9595\"/>\r\n",
       "</g>\r\n",
       "</g>\r\n",
       "</svg>\r\n"
      ],
      "text/plain": [
       "<graphviz.files.Source at 0x2aaa9290148>"
      ]
     },
     "execution_count": 29,
     "metadata": {},
     "output_type": "execute_result"
    }
   ],
   "source": [
    "# determine which variables the tree splits on via graphviz\n",
    "import graphviz \n",
    "from sklearn.tree import export_graphviz\n",
    "tree_viz = export_graphviz(dt, out_file=None,\n",
    "                                feature_names=X_train.columns, impurity = False, \n",
    "                                   rounded=True,  \n",
    "                                  special_characters=True) \n",
    "graph = graphviz.Source(tree_viz) \n",
    "graph.render(\"Nurse Staffing\") \n",
    "graph\n"
   ]
  },
  {
   "cell_type": "markdown",
   "metadata": {},
   "source": [
    "(b)"
   ]
  },
  {
   "cell_type": "code",
   "execution_count": 30,
   "metadata": {},
   "outputs": [
    {
     "data": {
      "text/plain": [
       "array([ 0.,  0., 13., 15.,  0., 18., 17.])"
      ]
     },
     "execution_count": 30,
     "metadata": {},
     "output_type": "execute_result"
    }
   ],
   "source": [
    "# get condtional distribution (i.e. staffing level) for each leaf\n",
    "\n",
    "# find out to which leaf each sample maps\n",
    "leaf_mapping = dt.apply(X_train)\n",
    "# get indices of leaves\n",
    "leaves = [i for i in range(dt.tree_.node_count) if dt.tree_.children_left[i] == -1]\n",
    "# initialize array that maps each leaf to a quantile\n",
    "leaf_to_quantile = np.zeros(dt.tree_.node_count)\n",
    "# populate mapping array\n",
    "for leaf in leaves:\n",
    "    # extract boolean array of samples that map to the current leaf\n",
    "    idx = (leaf == leaf_mapping)\n",
    "    # get values of those samples\n",
    "    y_leaf = y_train[idx]\n",
    "    # store quantile of those samples in mapping array\n",
    "    leaf_to_quantile[leaf] = round(np.quantile(y_leaf, quantile))\n",
    "\n",
    "# display mapping\n",
    "leaf_to_quantile\n"
   ]
  },
  {
   "cell_type": "markdown",
   "metadata": {},
   "source": [
    "(c)"
   ]
  },
  {
   "cell_type": "code",
   "execution_count": 31,
   "metadata": {},
   "outputs": [
    {
     "name": "stdout",
     "output_type": "stream",
     "text": [
      "40554.0\n"
     ]
    }
   ],
   "source": [
    "# find average cost based on training set\n",
    "\n",
    "# map samples to leaves\n",
    "train_leaves = dt.apply(X_train)\n",
    "# determine staffing choices\n",
    "train_decisions = leaf_to_quantile[train_leaves]\n",
    "# calculate cost\n",
    "train_set_cost = c_u * np.maximum(y_train - train_decisions, 0) + c_o * np.maximum(train_decisions - y_train, 0) + c_o * y_train\n",
    "# take average\n",
    "avg_train_set_cost = train_set_cost.mean(axis = 0)\n",
    "print(avg_train_set_cost)\n"
   ]
  },
  {
   "cell_type": "markdown",
   "metadata": {},
   "source": [
    "(d)"
   ]
  },
  {
   "cell_type": "code",
   "execution_count": 32,
   "metadata": {},
   "outputs": [
    {
     "name": "stdout",
     "output_type": "stream",
     "text": [
      "38772.0\n"
     ]
    }
   ],
   "source": [
    "# find average cost based on test set\n",
    "\n",
    "# map samples to leaves\n",
    "test_leaves = dt.apply(X_test)\n",
    "# determine staffing choices\n",
    "test_decisions = leaf_to_quantile[test_leaves]\n",
    "# calculate cost\n",
    "test_set_cost = c_u * np.maximum(y_test - test_decisions, 0) + c_o * np.maximum(test_decisions - y_test, 0) + c_o * y_test\n",
    "# take average\n",
    "avg_test_set_cost = test_set_cost.mean(axis = 0)\n",
    "print(avg_test_set_cost)\n"
   ]
  }
 ],
 "metadata": {
  "kernelspec": {
   "display_name": "Python 3",
   "language": "python",
   "name": "python3"
  },
  "language_info": {
   "codemirror_mode": {
    "name": "ipython",
    "version": 3
   },
   "file_extension": ".py",
   "mimetype": "text/x-python",
   "name": "python",
   "nbconvert_exporter": "python",
   "pygments_lexer": "ipython3",
   "version": "3.7.10"
  }
 },
 "nbformat": 4,
 "nbformat_minor": 4
}
